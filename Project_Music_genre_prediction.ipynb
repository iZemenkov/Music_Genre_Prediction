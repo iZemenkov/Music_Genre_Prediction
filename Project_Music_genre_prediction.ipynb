{
 "cells": [
  {
   "cell_type": "markdown",
   "metadata": {
    "id": "UzskdJLJG6-B"
   },
   "source": [
    "# Music genre prediction"
   ]
  },
  {
   "cell_type": "markdown",
   "metadata": {
    "id": "VEmvv_QjG_VK"
   },
   "source": [
    "**Описание задачи**\n",
    "\n",
    "Вы сотрудник Отдела Data Science популярного музыкального стримингового сервиса. Сервис расширяет работу с новыми артистами и музыкантами, в связи с чем возникла задача -- правильно классифицировать новые музыкальные треки, чтобы улучшить работу рекомендательной системы. Ваши коллеги из отдела работы со звуком подготовили датасет, в котором собраны некоторые характеристики музыкальных произведений и их жанры. Ваша задача - разработать модель, позволяющую классифицировать музыкальные произведения по жанрам."
   ]
  },
  {
   "cell_type": "markdown",
   "source": [
    "В ходе работы пройдите все основные этапы полноценного исследования:\n",
    "\n",
    "*  загрузка и ознакомление с данными\n",
    "*  предварительная обработка\n",
    "*  полноценный разведочный анализ\n",
    "*  разработка новых синтетических признаков\n",
    "*  проверка на мультиколлинеарность\n",
    "*  отбор финального набора обучающих признаков\n",
    "*  выбор и обучение моделей\n",
    "*  итоговая оценка качества предсказания лучшей модели\n",
    "*  анализ важности ее признаков\n",
    "\n",
    "**ВАЖНО**  \n",
    "Необходимо реализовать решение с использованием технологии `pipeline` (из библиотеки `sklearn`)"
   ],
   "metadata": {
    "id": "n2eyK2PYgTUx"
   }
  },
  {
   "cell_type": "markdown",
   "source": [
    "**ОЖИДАЕМЫЙ РЕЗУЛЬТАТ**\n",
    "\n",
    "* Оформленный репозиторий на GitHub (ноутбук с исследованием + код приложения)\n",
    "* Развернутое web-приложение (с использованием библиотеки Streamlit)"
   ],
   "metadata": {
    "id": "cKiE8GeWiuk6"
   }
  },
  {
   "cell_type": "markdown",
   "source": [
    "## Участники проекта, репозиторий, приложение"
   ],
   "metadata": {
    "id": "vjyDN19upagN"
   }
  },
  {
   "cell_type": "markdown",
   "source": [
    "..."
   ],
   "metadata": {
    "id": "Fc7hKssHphI5"
   }
  },
  {
   "cell_type": "markdown",
   "source": [
    "..."
   ],
   "metadata": {
    "id": "JXbgFQ4XpsRY"
   }
  },
  {
   "cell_type": "markdown",
   "metadata": {
    "id": "upi7CiS5HGqL"
   },
   "source": [
    "## Импорт библиотек, установка констант"
   ]
  },
  {
   "cell_type": "code",
   "metadata": {
    "id": "SsOojBMIIWJ5",
    "ExecuteTime": {
     "end_time": "2025-06-02T20:11:43.431173Z",
     "start_time": "2025-06-02T20:11:41.432297Z"
    }
   },
   "source": [
    "%%capture\n",
    "%pip install catboost -q"
   ],
   "outputs": [],
   "execution_count": 69
  },
  {
   "cell_type": "code",
   "metadata": {
    "id": "m6qnUHR9G5Ld",
    "ExecuteTime": {
     "end_time": "2025-06-02T20:11:43.492184Z",
     "start_time": "2025-06-02T20:11:43.479188Z"
    }
   },
   "source": [
    "import pandas as pd\n",
    "import matplotlib.pyplot as plt\n",
    "import seaborn as sns\n",
    "import numpy as np\n",
    "\n",
    "\n",
    "from sklearn.model_selection import train_test_split\n",
    "from sklearn.metrics import f1_score\n",
    "from catboost import CatBoostClassifier"
   ],
   "outputs": [],
   "execution_count": 70
  },
  {
   "cell_type": "code",
   "metadata": {
    "id": "lDS-n392MZiL",
    "ExecuteTime": {
     "end_time": "2025-06-02T20:11:43.554863Z",
     "start_time": "2025-06-02T20:11:43.541825Z"
    }
   },
   "source": [
    "TRAIN = \"https://www.dropbox.com/scl/fi/5zy935lqpaqr9lat76ung/music_genre_train.csv?rlkey=ccovu9ml8pfi9whk1ba26zdda&dl=1\"\n",
    "TEST = \"https://www.dropbox.com/scl/fi/o6mvsowpp9r3k2lejuegt/music_genre_test.csv?rlkey=ac14ydue0rzlh880jwj3ebum4&dl=1\""
   ],
   "outputs": [],
   "execution_count": 71
  },
  {
   "cell_type": "code",
   "metadata": {
    "id": "CHWpPqWyRkBp",
    "ExecuteTime": {
     "end_time": "2025-06-02T20:11:43.616806Z",
     "start_time": "2025-06-02T20:11:43.603851Z"
    }
   },
   "source": [
    "RANDOM_STATE = 42\n",
    "TEST_SIZE = 0.25"
   ],
   "outputs": [],
   "execution_count": 72
  },
  {
   "cell_type": "markdown",
   "metadata": {
    "id": "2KtnoyfHNIVT"
   },
   "source": [
    "## Загрузка и обзор данных"
   ]
  },
  {
   "cell_type": "code",
   "metadata": {
    "id": "S7wsfpGRNKG3",
    "ExecuteTime": {
     "end_time": "2025-06-02T20:12:00.290588Z",
     "start_time": "2025-06-02T20:11:43.664805Z"
    }
   },
   "source": [
    "train = pd.read_csv(TRAIN)\n",
    "test = pd.read_csv(TEST)"
   ],
   "outputs": [],
   "execution_count": 73
  },
  {
   "cell_type": "code",
   "metadata": {
    "colab": {
     "base_uri": "https://localhost:8080/",
     "height": 258
    },
    "id": "loLY3GVFN5jI",
    "outputId": "2eed34f9-2866-4d3c-ab8c-d37b7f822a8b",
    "ExecuteTime": {
     "end_time": "2025-06-02T20:12:00.368690Z",
     "start_time": "2025-06-02T20:12:00.339158Z"
    }
   },
   "source": [
    "train.sample(5)"
   ],
   "outputs": [
    {
     "data": {
      "text/plain": [
       "       instance_id                                         track_name  \\\n",
       "15396      41933.0  'Tain't What You Do (It's The Way That Cha Do It)   \n",
       "2416       36523.0  String Quartet No. 14 in D Minor, D. 810 \"Deat...   \n",
       "16921      86853.0                                          happiness   \n",
       "3788       69586.0                                               Zoom   \n",
       "11054      65663.0                                               GOD.   \n",
       "\n",
       "       acousticness  danceability  duration_ms  energy  instrumentalness key  \\\n",
       "15396      0.911000         0.658     178067.0  0.2490          0.000026   F   \n",
       "2416       0.995000         0.459     251522.0  0.0976          0.876000   D   \n",
       "16921      0.000116         0.506     131267.0  0.9830          0.704000   E   \n",
       "3788       0.035000         0.782     166027.0  0.5030          0.000000   D   \n",
       "11054      0.034700         0.706     248827.0  0.5570          0.000000   C   \n",
       "\n",
       "       liveness  loudness   mode  speechiness    tempo obtained_date  valence  \\\n",
       "15396    0.1150   -11.111  Major       0.1280   80.891         4-Apr    0.853   \n",
       "2416     0.0825   -23.984  Major       0.0411  127.933         1-Apr    0.227   \n",
       "16921    0.4310    -2.195  Major       0.1270   96.094         4-Apr    0.654   \n",
       "3788     0.2660    -8.214  Major       0.3050  129.904         4-Apr    0.657   \n",
       "11054    0.2760    -5.800  Major       0.0813  132.980         4-Apr    0.205   \n",
       "\n",
       "      music_genre  \n",
       "15396       Blues  \n",
       "2416    Classical  \n",
       "16921       Anime  \n",
       "3788          Rap  \n",
       "11054         Rap  "
      ],
      "text/html": [
       "<div>\n",
       "<style scoped>\n",
       "    .dataframe tbody tr th:only-of-type {\n",
       "        vertical-align: middle;\n",
       "    }\n",
       "\n",
       "    .dataframe tbody tr th {\n",
       "        vertical-align: top;\n",
       "    }\n",
       "\n",
       "    .dataframe thead th {\n",
       "        text-align: right;\n",
       "    }\n",
       "</style>\n",
       "<table border=\"1\" class=\"dataframe\">\n",
       "  <thead>\n",
       "    <tr style=\"text-align: right;\">\n",
       "      <th></th>\n",
       "      <th>instance_id</th>\n",
       "      <th>track_name</th>\n",
       "      <th>acousticness</th>\n",
       "      <th>danceability</th>\n",
       "      <th>duration_ms</th>\n",
       "      <th>energy</th>\n",
       "      <th>instrumentalness</th>\n",
       "      <th>key</th>\n",
       "      <th>liveness</th>\n",
       "      <th>loudness</th>\n",
       "      <th>mode</th>\n",
       "      <th>speechiness</th>\n",
       "      <th>tempo</th>\n",
       "      <th>obtained_date</th>\n",
       "      <th>valence</th>\n",
       "      <th>music_genre</th>\n",
       "    </tr>\n",
       "  </thead>\n",
       "  <tbody>\n",
       "    <tr>\n",
       "      <th>15396</th>\n",
       "      <td>41933.0</td>\n",
       "      <td>'Tain't What You Do (It's The Way That Cha Do It)</td>\n",
       "      <td>0.911000</td>\n",
       "      <td>0.658</td>\n",
       "      <td>178067.0</td>\n",
       "      <td>0.2490</td>\n",
       "      <td>0.000026</td>\n",
       "      <td>F</td>\n",
       "      <td>0.1150</td>\n",
       "      <td>-11.111</td>\n",
       "      <td>Major</td>\n",
       "      <td>0.1280</td>\n",
       "      <td>80.891</td>\n",
       "      <td>4-Apr</td>\n",
       "      <td>0.853</td>\n",
       "      <td>Blues</td>\n",
       "    </tr>\n",
       "    <tr>\n",
       "      <th>2416</th>\n",
       "      <td>36523.0</td>\n",
       "      <td>String Quartet No. 14 in D Minor, D. 810 \"Deat...</td>\n",
       "      <td>0.995000</td>\n",
       "      <td>0.459</td>\n",
       "      <td>251522.0</td>\n",
       "      <td>0.0976</td>\n",
       "      <td>0.876000</td>\n",
       "      <td>D</td>\n",
       "      <td>0.0825</td>\n",
       "      <td>-23.984</td>\n",
       "      <td>Major</td>\n",
       "      <td>0.0411</td>\n",
       "      <td>127.933</td>\n",
       "      <td>1-Apr</td>\n",
       "      <td>0.227</td>\n",
       "      <td>Classical</td>\n",
       "    </tr>\n",
       "    <tr>\n",
       "      <th>16921</th>\n",
       "      <td>86853.0</td>\n",
       "      <td>happiness</td>\n",
       "      <td>0.000116</td>\n",
       "      <td>0.506</td>\n",
       "      <td>131267.0</td>\n",
       "      <td>0.9830</td>\n",
       "      <td>0.704000</td>\n",
       "      <td>E</td>\n",
       "      <td>0.4310</td>\n",
       "      <td>-2.195</td>\n",
       "      <td>Major</td>\n",
       "      <td>0.1270</td>\n",
       "      <td>96.094</td>\n",
       "      <td>4-Apr</td>\n",
       "      <td>0.654</td>\n",
       "      <td>Anime</td>\n",
       "    </tr>\n",
       "    <tr>\n",
       "      <th>3788</th>\n",
       "      <td>69586.0</td>\n",
       "      <td>Zoom</td>\n",
       "      <td>0.035000</td>\n",
       "      <td>0.782</td>\n",
       "      <td>166027.0</td>\n",
       "      <td>0.5030</td>\n",
       "      <td>0.000000</td>\n",
       "      <td>D</td>\n",
       "      <td>0.2660</td>\n",
       "      <td>-8.214</td>\n",
       "      <td>Major</td>\n",
       "      <td>0.3050</td>\n",
       "      <td>129.904</td>\n",
       "      <td>4-Apr</td>\n",
       "      <td>0.657</td>\n",
       "      <td>Rap</td>\n",
       "    </tr>\n",
       "    <tr>\n",
       "      <th>11054</th>\n",
       "      <td>65663.0</td>\n",
       "      <td>GOD.</td>\n",
       "      <td>0.034700</td>\n",
       "      <td>0.706</td>\n",
       "      <td>248827.0</td>\n",
       "      <td>0.5570</td>\n",
       "      <td>0.000000</td>\n",
       "      <td>C</td>\n",
       "      <td>0.2760</td>\n",
       "      <td>-5.800</td>\n",
       "      <td>Major</td>\n",
       "      <td>0.0813</td>\n",
       "      <td>132.980</td>\n",
       "      <td>4-Apr</td>\n",
       "      <td>0.205</td>\n",
       "      <td>Rap</td>\n",
       "    </tr>\n",
       "  </tbody>\n",
       "</table>\n",
       "</div>"
      ]
     },
     "execution_count": 74,
     "metadata": {},
     "output_type": "execute_result"
    }
   ],
   "execution_count": 74
  },
  {
   "cell_type": "markdown",
   "metadata": {
    "id": "SiKqp1lxOs_y"
   },
   "source": [
    "**Описание полей данных**\n",
    "\n",
    "`instance_id` - уникальный идентификатор трека  \n",
    "`track_name` - название трека  \n",
    "`acousticness` - акустичность  \n",
    "`danceability` - танцевальность  \n",
    "`duration_ms` -продолжительность в милисекундах  \n",
    "`energy` - энергичность  \n",
    "`instrumentalness` - инструментальность  \n",
    "`key` - тональность  \n",
    "`liveness` - привлекательность  \n",
    "`loudness` - громкость  \n",
    "`mode` - наклонение  \n",
    "`speechiness` - выразительность  \n",
    "`tempo` - темп  \n",
    "`obtained_date` - дата загрузки в сервис  \n",
    "`valence` - привлекательность произведения для пользователей сервиса  \n",
    "`music_genre` - музыкальный жанр"
   ]
  },
  {
   "cell_type": "markdown",
   "metadata": {
    "id": "ISIPhbS3RD3f"
   },
   "source": [
    "## Предварительная обработка данных"
   ]
  },
  {
   "cell_type": "code",
   "source": [
    "print('Train data shape:', train.shape)\n",
    "print('Test data shape:', test.shape)"
   ],
   "metadata": {
    "id": "k-7r-wHPkKoc",
    "ExecuteTime": {
     "end_time": "2025-06-02T20:12:00.460677Z",
     "start_time": "2025-06-02T20:12:00.446677Z"
    }
   },
   "outputs": [
    {
     "name": "stdout",
     "output_type": "stream",
     "text": [
      "Train data shape: (20394, 16)\n",
      "Test data shape: (5099, 15)\n"
     ]
    }
   ],
   "execution_count": 75
  },
  {
   "metadata": {},
   "cell_type": "markdown",
   "source": "*Отметим отсутствие в тестовой выборке одного столбца (предположительно - целевого*"
  },
  {
   "cell_type": "code",
   "source": "test.sample(5)",
   "metadata": {
    "id": "wjdDcIPXjovn",
    "ExecuteTime": {
     "end_time": "2025-06-02T20:12:00.586005Z",
     "start_time": "2025-06-02T20:12:00.572003Z"
    }
   },
   "outputs": [
    {
     "data": {
      "text/plain": [
       "      instance_id                     track_name  acousticness  danceability  \\\n",
       "2168        70478                      シークレットコード       0.00269         0.682   \n",
       "763         67600      Freedom - TROY NōKA Remix       0.00830         0.561   \n",
       "3878        53347                    Know Myself       0.47400         0.776   \n",
       "2312        66032                       B.Y.O.B.       0.00662         0.556   \n",
       "1809        68320  With a Billion Worldful of <3       0.12600         0.456   \n",
       "\n",
       "      duration_ms  energy  instrumentalness key  liveness  loudness   mode  \\\n",
       "2168     265311.0   0.692          0.000000  C#    0.2280    -3.983  Major   \n",
       "763      232907.0   0.884          0.000000   D    0.3510    -5.310  Major   \n",
       "3878     167493.0   0.500          0.000931   F    0.1690    -7.451  Minor   \n",
       "2312     255467.0   0.981          0.000000  C#    0.2180    -2.688  Minor   \n",
       "1809     205480.0   0.678          0.000021  A#    0.0812    -6.417  Minor   \n",
       "\n",
       "      speechiness    tempo obtained_date  valence  \n",
       "2168       0.0309  134.950         4-Apr    0.851  \n",
       "763        0.1510  154.157         4-Apr    0.331  \n",
       "3878       0.0579  100.055         4-Apr    0.544  \n",
       "2312       0.1280  101.423         4-Apr    0.716  \n",
       "1809       0.0414  150.217         4-Apr    0.323  "
      ],
      "text/html": [
       "<div>\n",
       "<style scoped>\n",
       "    .dataframe tbody tr th:only-of-type {\n",
       "        vertical-align: middle;\n",
       "    }\n",
       "\n",
       "    .dataframe tbody tr th {\n",
       "        vertical-align: top;\n",
       "    }\n",
       "\n",
       "    .dataframe thead th {\n",
       "        text-align: right;\n",
       "    }\n",
       "</style>\n",
       "<table border=\"1\" class=\"dataframe\">\n",
       "  <thead>\n",
       "    <tr style=\"text-align: right;\">\n",
       "      <th></th>\n",
       "      <th>instance_id</th>\n",
       "      <th>track_name</th>\n",
       "      <th>acousticness</th>\n",
       "      <th>danceability</th>\n",
       "      <th>duration_ms</th>\n",
       "      <th>energy</th>\n",
       "      <th>instrumentalness</th>\n",
       "      <th>key</th>\n",
       "      <th>liveness</th>\n",
       "      <th>loudness</th>\n",
       "      <th>mode</th>\n",
       "      <th>speechiness</th>\n",
       "      <th>tempo</th>\n",
       "      <th>obtained_date</th>\n",
       "      <th>valence</th>\n",
       "    </tr>\n",
       "  </thead>\n",
       "  <tbody>\n",
       "    <tr>\n",
       "      <th>2168</th>\n",
       "      <td>70478</td>\n",
       "      <td>シークレットコード</td>\n",
       "      <td>0.00269</td>\n",
       "      <td>0.682</td>\n",
       "      <td>265311.0</td>\n",
       "      <td>0.692</td>\n",
       "      <td>0.000000</td>\n",
       "      <td>C#</td>\n",
       "      <td>0.2280</td>\n",
       "      <td>-3.983</td>\n",
       "      <td>Major</td>\n",
       "      <td>0.0309</td>\n",
       "      <td>134.950</td>\n",
       "      <td>4-Apr</td>\n",
       "      <td>0.851</td>\n",
       "    </tr>\n",
       "    <tr>\n",
       "      <th>763</th>\n",
       "      <td>67600</td>\n",
       "      <td>Freedom - TROY NōKA Remix</td>\n",
       "      <td>0.00830</td>\n",
       "      <td>0.561</td>\n",
       "      <td>232907.0</td>\n",
       "      <td>0.884</td>\n",
       "      <td>0.000000</td>\n",
       "      <td>D</td>\n",
       "      <td>0.3510</td>\n",
       "      <td>-5.310</td>\n",
       "      <td>Major</td>\n",
       "      <td>0.1510</td>\n",
       "      <td>154.157</td>\n",
       "      <td>4-Apr</td>\n",
       "      <td>0.331</td>\n",
       "    </tr>\n",
       "    <tr>\n",
       "      <th>3878</th>\n",
       "      <td>53347</td>\n",
       "      <td>Know Myself</td>\n",
       "      <td>0.47400</td>\n",
       "      <td>0.776</td>\n",
       "      <td>167493.0</td>\n",
       "      <td>0.500</td>\n",
       "      <td>0.000931</td>\n",
       "      <td>F</td>\n",
       "      <td>0.1690</td>\n",
       "      <td>-7.451</td>\n",
       "      <td>Minor</td>\n",
       "      <td>0.0579</td>\n",
       "      <td>100.055</td>\n",
       "      <td>4-Apr</td>\n",
       "      <td>0.544</td>\n",
       "    </tr>\n",
       "    <tr>\n",
       "      <th>2312</th>\n",
       "      <td>66032</td>\n",
       "      <td>B.Y.O.B.</td>\n",
       "      <td>0.00662</td>\n",
       "      <td>0.556</td>\n",
       "      <td>255467.0</td>\n",
       "      <td>0.981</td>\n",
       "      <td>0.000000</td>\n",
       "      <td>C#</td>\n",
       "      <td>0.2180</td>\n",
       "      <td>-2.688</td>\n",
       "      <td>Minor</td>\n",
       "      <td>0.1280</td>\n",
       "      <td>101.423</td>\n",
       "      <td>4-Apr</td>\n",
       "      <td>0.716</td>\n",
       "    </tr>\n",
       "    <tr>\n",
       "      <th>1809</th>\n",
       "      <td>68320</td>\n",
       "      <td>With a Billion Worldful of &lt;3</td>\n",
       "      <td>0.12600</td>\n",
       "      <td>0.456</td>\n",
       "      <td>205480.0</td>\n",
       "      <td>0.678</td>\n",
       "      <td>0.000021</td>\n",
       "      <td>A#</td>\n",
       "      <td>0.0812</td>\n",
       "      <td>-6.417</td>\n",
       "      <td>Minor</td>\n",
       "      <td>0.0414</td>\n",
       "      <td>150.217</td>\n",
       "      <td>4-Apr</td>\n",
       "      <td>0.323</td>\n",
       "    </tr>\n",
       "  </tbody>\n",
       "</table>\n",
       "</div>"
      ]
     },
     "execution_count": 76,
     "metadata": {},
     "output_type": "execute_result"
    }
   ],
   "execution_count": 76
  },
  {
   "metadata": {
    "ExecuteTime": {
     "end_time": "2025-06-02T20:12:00.742542Z",
     "start_time": "2025-06-02T20:12:00.729109Z"
    }
   },
   "cell_type": "code",
   "source": "train.columns, test.columns",
   "outputs": [
    {
     "data": {
      "text/plain": [
       "(Index(['instance_id', 'track_name', 'acousticness', 'danceability',\n",
       "        'duration_ms', 'energy', 'instrumentalness', 'key', 'liveness',\n",
       "        'loudness', 'mode', 'speechiness', 'tempo', 'obtained_date', 'valence',\n",
       "        'music_genre'],\n",
       "       dtype='object'),\n",
       " Index(['instance_id', 'track_name', 'acousticness', 'danceability',\n",
       "        'duration_ms', 'energy', 'instrumentalness', 'key', 'liveness',\n",
       "        'loudness', 'mode', 'speechiness', 'tempo', 'obtained_date', 'valence'],\n",
       "       dtype='object'))"
      ]
     },
     "execution_count": 77,
     "metadata": {},
     "output_type": "execute_result"
    }
   ],
   "execution_count": 77
  },
  {
   "metadata": {},
   "cell_type": "markdown",
   "source": "*В тестовой выборке отсутствует целевая переменная. Это значит, что в ходе работы мы будем работать только с тренировочной выборкой (и делить ее на трейн и тест), а для тестовой только получим предстказание*"
  },
  {
   "metadata": {
    "ExecuteTime": {
     "end_time": "2025-06-02T20:12:38.095686Z",
     "start_time": "2025-06-02T20:12:38.065688Z"
    }
   },
   "cell_type": "code",
   "source": "train.info()",
   "outputs": [
    {
     "name": "stdout",
     "output_type": "stream",
     "text": [
      "<class 'pandas.core.frame.DataFrame'>\n",
      "RangeIndex: 20394 entries, 0 to 20393\n",
      "Data columns (total 16 columns):\n",
      " #   Column            Non-Null Count  Dtype  \n",
      "---  ------            --------------  -----  \n",
      " 0   instance_id       20394 non-null  float64\n",
      " 1   track_name        20394 non-null  object \n",
      " 2   acousticness      20394 non-null  float64\n",
      " 3   danceability      20394 non-null  float64\n",
      " 4   duration_ms       20394 non-null  float64\n",
      " 5   energy            20394 non-null  float64\n",
      " 6   instrumentalness  20394 non-null  float64\n",
      " 7   key               19659 non-null  object \n",
      " 8   liveness          20394 non-null  float64\n",
      " 9   loudness          20394 non-null  float64\n",
      " 10  mode              19888 non-null  object \n",
      " 11  speechiness       20394 non-null  float64\n",
      " 12  tempo             19952 non-null  float64\n",
      " 13  obtained_date     20394 non-null  object \n",
      " 14  valence           20394 non-null  float64\n",
      " 15  music_genre       20394 non-null  object \n",
      "dtypes: float64(11), object(5)\n",
      "memory usage: 2.5+ MB\n"
     ]
    }
   ],
   "execution_count": 81
  },
  {
   "metadata": {},
   "cell_type": "markdown",
   "source": "*Тренировочный датасет содержит пропуски в столбцах ``key``, ``mode``, ``tempo``. взглянем на тестовый датасет и решим, как с ними поступить*"
  },
  {
   "metadata": {
    "ExecuteTime": {
     "end_time": "2025-06-02T20:11:21.318184Z",
     "start_time": "2025-06-02T20:11:21.299211Z"
    }
   },
   "cell_type": "code",
   "source": "test.info()",
   "outputs": [
    {
     "name": "stdout",
     "output_type": "stream",
     "text": [
      "<class 'pandas.core.frame.DataFrame'>\n",
      "RangeIndex: 5099 entries, 0 to 5098\n",
      "Data columns (total 15 columns):\n",
      " #   Column            Non-Null Count  Dtype  \n",
      "---  ------            --------------  -----  \n",
      " 0   instance_id       5099 non-null   int64  \n",
      " 1   track_name        5099 non-null   object \n",
      " 2   acousticness      5099 non-null   float64\n",
      " 3   danceability      5099 non-null   float64\n",
      " 4   duration_ms       5099 non-null   float64\n",
      " 5   energy            5099 non-null   float64\n",
      " 6   instrumentalness  5099 non-null   float64\n",
      " 7   key               4941 non-null   object \n",
      " 8   liveness          5099 non-null   float64\n",
      " 9   loudness          5099 non-null   float64\n",
      " 10  mode              4950 non-null   object \n",
      " 11  speechiness       5099 non-null   float64\n",
      " 12  tempo             4978 non-null   float64\n",
      " 13  obtained_date     5099 non-null   object \n",
      " 14  valence           5099 non-null   float64\n",
      "dtypes: float64(10), int64(1), object(4)\n",
      "memory usage: 597.7+ KB\n"
     ]
    }
   ],
   "execution_count": 67
  },
  {
   "metadata": {},
   "cell_type": "markdown",
   "source": "*Видим пропуски в тех же столбцах, следовательно, будем закладывать обработку пропусков в пайплайн*"
  },
  {
   "metadata": {
    "ExecuteTime": {
     "end_time": "2025-06-02T20:16:11.557432Z",
     "start_time": "2025-06-02T20:16:10.660760Z"
    }
   },
   "cell_type": "code",
   "source": [
    "# Убираем пропуски\n",
    "key_clean = train[\"key\"].dropna()\n",
    "tempo_clean = train[\"tempo\"].dropna()\n",
    "mode_clean = train[\"mode\"].dropna()\n",
    "\n",
    "# Преобразуем в строки (если нужно)\n",
    "key_clean = key_clean.astype(str)\n",
    "mode_clean = mode_clean.astype(str)\n",
    "\n",
    "# Фигуры\n",
    "fig, ax = plt.subplots(1, 3, figsize=(20, 5))\n",
    "\n",
    "# key\n",
    "sns.countplot(x=key_clean, ax=ax[0], order=key_clean.value_counts().index)\n",
    "ax[0].set_title(\"key: Частота появления\")\n",
    "ax[0].set_xlabel(\"Тональность\")\n",
    "ax[0].set_ylabel(\"Количество\")\n",
    "ax[0].tick_params(axis='x', rotation=45)\n",
    "\n",
    "# tempo\n",
    "sns.histplot(tempo_clean, bins=40, kde=True, ax=ax[1])\n",
    "ax[1].set_title(\"tempo: Распределение\")\n",
    "ax[1].set_xlabel(\"Темп (BPM)\")\n",
    "ax[1].set_ylabel(\"Количество\")\n",
    "\n",
    "# mode\n",
    "sns.countplot(x=mode_clean, ax=ax[2], order=mode_clean.value_counts().index)\n",
    "ax[2].set_title(\"mode: Частота появления\")\n",
    "ax[2].set_xlabel(\"Наклонение\")\n",
    "ax[2].set_ylabel(\"Количество\")\n",
    "\n",
    "plt.tight_layout()\n",
    "plt.show();\n"
   ],
   "outputs": [
    {
     "data": {
      "text/plain": [
       "<Figure size 2000x500 with 3 Axes>"
      ],
      "image/png": "[encoded data removed]"
     },
     "metadata": {},
     "output_type": "display_data"
    }
   ],
   "execution_count": 84
  },
  {
   "metadata": {},
   "cell_type": "markdown",
   "source": "*Для ``key`` и ``mode`` заменим пропуски модальным значением, для ``tempo`` - средним значением, т.к. распределение близко к нормальному*"
  },
  {
   "metadata": {
    "ExecuteTime": {
     "end_time": "2025-06-02T20:20:46.697599Z",
     "start_time": "2025-06-02T20:20:46.681606Z"
    }
   },
   "cell_type": "code",
   "source": [
    "# Создадим промежуточный датафрейм, с которым будем работать:\n",
    "\n",
    "df_train = train.copy()"
   ],
   "outputs": [],
   "execution_count": 88
  },
  {
   "metadata": {},
   "cell_type": "markdown",
   "source": "*Посмотрим на распределение целевой переменной*"
  },
  {
   "metadata": {
    "ExecuteTime": {
     "end_time": "2025-06-02T20:23:41.390548Z",
     "start_time": "2025-06-02T20:23:41.165266Z"
    }
   },
   "cell_type": "code",
   "source": "df_train[\"music_genre\"].value_counts().plot(kind=\"barh\", title=\"Распределение жанров\");",
   "outputs": [
    {
     "data": {
      "text/plain": [
       "<Figure size 640x480 with 1 Axes>"
      ],
      "image/png": "[encoded data removed]"
     },
     "metadata": {},
     "output_type": "display_data"
    }
   ],
   "execution_count": 93
  },
  {
   "metadata": {},
   "cell_type": "markdown",
   "source": "*Видим, что у нас **умеренно несбалансированный** датасет. Нужно иметь это ввиду при обучении моделей"
  },
  {
   "metadata": {},
   "cell_type": "markdown",
   "source": "*Предобработаем датасет (уберем незначащие признаки ``instance_id``, ``track_name``, ``obtained_date`` и заполним пропуски*"
  },
  {
   "metadata": {
    "ExecuteTime": {
     "end_time": "2025-06-02T20:31:38.585169Z",
     "start_time": "2025-06-02T20:31:38.549172Z"
    }
   },
   "cell_type": "code",
   "source": [
    "# Удалим неинформативные признаки\n",
    "df_train.drop(columns=[\"instance_id\", \"track_name\", \"obtained_date\"], inplace=True)\n",
    "\n",
    "# Посмотрим на количество пропусков\n",
    "print(df_train.isnull().sum())\n",
    "\n",
    "# Заполним пропуски:\n",
    "# - числовой tempo — средним\n",
    "# - категориальные key и mode — самым частым значением (модой)\n",
    "df_train[\"tempo\"].fillna(df_train[\"tempo\"].mean(), inplace=True)\n",
    "df_train[\"key\"].fillna(df_train[\"key\"].mode()[0], inplace=True)\n",
    "df_train[\"mode\"].fillna(df_train[\"mode\"].mode()[0], inplace=True)\n",
    "\n",
    "# Проверим снова\n",
    "print(\"Пропуски после заполнения:\\n\", df_train.isnull().sum())\n"
   ],
   "outputs": [
    {
     "name": "stdout",
     "output_type": "stream",
     "text": [
      "acousticness          0\n",
      "danceability          0\n",
      "duration_ms           0\n",
      "energy                0\n",
      "instrumentalness      0\n",
      "key                 735\n",
      "liveness              0\n",
      "loudness              0\n",
      "mode                506\n",
      "speechiness           0\n",
      "tempo               442\n",
      "valence               0\n",
      "music_genre           0\n",
      "dtype: int64\n",
      "Пропуски после заполнения:\n",
      " acousticness        0\n",
      "danceability        0\n",
      "duration_ms         0\n",
      "energy              0\n",
      "instrumentalness    0\n",
      "key                 0\n",
      "liveness            0\n",
      "loudness            0\n",
      "mode                0\n",
      "speechiness         0\n",
      "tempo               0\n",
      "valence             0\n",
      "music_genre         0\n",
      "dtype: int64\n"
     ]
    },
    {
     "name": "stderr",
     "output_type": "stream",
     "text": [
      "C:\\Users\\izeme\\AppData\\Local\\Temp\\ipykernel_9344\\2387266570.py:10: FutureWarning: A value is trying to be set on a copy of a DataFrame or Series through chained assignment using an inplace method.\n",
      "The behavior will change in pandas 3.0. This inplace method will never work because the intermediate object on which we are setting values always behaves as a copy.\n",
      "\n",
      "For example, when doing 'df[col].method(value, inplace=True)', try using 'df.method({col: value}, inplace=True)' or df[col] = df[col].method(value) instead, to perform the operation inplace on the original object.\n",
      "\n",
      "\n",
      "  df_train[\"tempo\"].fillna(df_train[\"tempo\"].mean(), inplace=True)\n",
      "C:\\Users\\izeme\\AppData\\Local\\Temp\\ipykernel_9344\\2387266570.py:11: FutureWarning: A value is trying to be set on a copy of a DataFrame or Series through chained assignment using an inplace method.\n",
      "The behavior will change in pandas 3.0. This inplace method will never work because the intermediate object on which we are setting values always behaves as a copy.\n",
      "\n",
      "For example, when doing 'df[col].method(value, inplace=True)', try using 'df.method({col: value}, inplace=True)' or df[col] = df[col].method(value) instead, to perform the operation inplace on the original object.\n",
      "\n",
      "\n",
      "  df_train[\"key\"].fillna(df_train[\"key\"].mode()[0], inplace=True)\n",
      "C:\\Users\\izeme\\AppData\\Local\\Temp\\ipykernel_9344\\2387266570.py:12: FutureWarning: A value is trying to be set on a copy of a DataFrame or Series through chained assignment using an inplace method.\n",
      "The behavior will change in pandas 3.0. This inplace method will never work because the intermediate object on which we are setting values always behaves as a copy.\n",
      "\n",
      "For example, when doing 'df[col].method(value, inplace=True)', try using 'df.method({col: value}, inplace=True)' or df[col] = df[col].method(value) instead, to perform the operation inplace on the original object.\n",
      "\n",
      "\n",
      "  df_train[\"mode\"].fillna(df_train[\"mode\"].mode()[0], inplace=True)\n"
     ]
    }
   ],
   "execution_count": 94
  },
  {
   "metadata": {},
   "cell_type": "code",
   "outputs": [],
   "execution_count": null,
   "source": ""
  },
  {
   "metadata": {},
   "cell_type": "code",
   "outputs": [],
   "execution_count": null,
   "source": ""
  },
  {
   "metadata": {},
   "cell_type": "code",
   "outputs": [],
   "execution_count": null,
   "source": ""
  },
  {
   "metadata": {},
   "cell_type": "code",
   "outputs": [],
   "execution_count": null,
   "source": ""
  },
  {
   "cell_type": "markdown",
   "source": "D## Разведочный анализ",
   "metadata": {
    "id": "C1n43JFuj8A4"
   }
  },
  {
   "cell_type": "code",
   "source": [],
   "metadata": {
    "id": "XZkWuz5PkJKz"
   },
   "execution_count": null,
   "outputs": []
  },
  {
   "cell_type": "code",
   "source": [],
   "metadata": {
    "id": "wH49XeKmkJAk"
   },
   "execution_count": null,
   "outputs": []
  },
  {
   "cell_type": "markdown",
   "source": [
    "## Работа с признаками"
   ],
   "metadata": {
    "id": "8jjLU6LfkEXo"
   }
  },
  {
   "cell_type": "code",
   "source": [],
   "metadata": {
    "id": "04rnC4ZNkH-W"
   },
   "execution_count": null,
   "outputs": []
  },
  {
   "cell_type": "code",
   "source": [],
   "metadata": {
    "id": "-4pQ7uzFkH0p"
   },
   "execution_count": null,
   "outputs": []
  },
  {
   "cell_type": "markdown",
   "metadata": {
    "id": "Z8q5tYgLRXxB"
   },
   "source": [
    "## Выбор и обучение моделей"
   ]
  },
  {
   "cell_type": "code",
   "source": [],
   "metadata": {
    "id": "j1RiZZM1kJsA"
   },
   "execution_count": null,
   "outputs": []
  },
  {
   "cell_type": "code",
   "source": [],
   "metadata": {
    "id": "lpM7aKb8jq-M"
   },
   "execution_count": null,
   "outputs": []
  },
  {
   "cell_type": "markdown",
   "metadata": {
    "id": "DKCtMvNlR5sf"
   },
   "source": [
    "## Оценка качества"
   ]
  },
  {
   "cell_type": "code",
   "source": [],
   "metadata": {
    "id": "mNu1Q_l_kKEf"
   },
   "execution_count": null,
   "outputs": []
  },
  {
   "cell_type": "code",
   "source": [],
   "metadata": {
    "id": "hauX4570jumC"
   },
   "execution_count": null,
   "outputs": []
  },
  {
   "cell_type": "markdown",
   "source": [
    "## Анализ важности признаков модели"
   ],
   "metadata": {
    "id": "xym1_x6Alo8o"
   }
  },
  {
   "cell_type": "code",
   "source": [],
   "metadata": {
    "id": "QVoP-8_IlsS0"
   },
   "execution_count": null,
   "outputs": []
  },
  {
   "cell_type": "code",
   "source": [],
   "metadata": {
    "id": "JkoTDfxfmJuo"
   },
   "execution_count": null,
   "outputs": []
  }
 ],
 "metadata": {
  "colab": {
   "provenance": []
  },
  "kernelspec": {
   "display_name": "Python 3 (ipykernel)",
   "language": "python",
   "name": "python3"
  },
  "language_info": {
   "codemirror_mode": {
    "name": "ipython",
    "version": 3
   },
   "file_extension": ".py",
   "mimetype": "text/x-python",
   "name": "python",
   "nbconvert_exporter": "python",
   "pygments_lexer": "ipython3",
   "version": "3.8.12"
  },
  "toc": {
   "base_numbering": 1,
   "nav_menu": {},
   "number_sections": true,
   "sideBar": true,
   "skip_h1_title": true,
   "title_cell": "Table of Contents",
   "title_sidebar": "Contents",
   "toc_cell": false,
   "toc_position": {},
   "toc_section_display": true,
   "toc_window_display": false
  }
 },
 "nbformat": 4,
 "nbformat_minor": 0
}
