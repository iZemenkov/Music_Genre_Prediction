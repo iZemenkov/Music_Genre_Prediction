{
 "cells": [
  {
   "cell_type": "markdown",
   "metadata": {
    "id": "UzskdJLJG6-B"
   },
   "source": [
    "# Music genre prediction"
   ]
  },
  {
   "cell_type": "markdown",
   "metadata": {
    "id": "VEmvv_QjG_VK"
   },
   "source": [
    "**Описание задачи**\n",
    "\n",
    "Вы сотрудник Отдела Data Science популярного музыкального стримингового сервиса. Сервис расширяет работу с новыми артистами и музыкантами, в связи с чем возникла задача -- правильно классифицировать новые музыкальные треки, чтобы улучшить работу рекомендательной системы. Ваши коллеги из отдела работы со звуком подготовили датасет, в котором собраны некоторые характеристики музыкальных произведений и их жанры. Ваша задача - разработать модель, позволяющую классифицировать музыкальные произведения по жанрам."
   ]
  },
  {
   "cell_type": "markdown",
   "source": [
    "В ходе работы пройдите все основные этапы полноценного исследования:\n",
    "\n",
    "*  загрузка и ознакомление с данными\n",
    "*  предварительная обработка\n",
    "*  полноценный разведочный анализ\n",
    "*  разработка новых синтетических признаков\n",
    "*  проверка на мультиколлинеарность\n",
    "*  отбор финального набора обучающих признаков\n",
    "*  выбор и обучение моделей\n",
    "*  итоговая оценка качества предсказания лучшей модели\n",
    "*  анализ важности ее признаков\n",
    "\n",
    "**ВАЖНО**  \n",
    "Необходимо реализовать решение с использованием технологии `pipeline` (из библиотеки `sklearn`)"
   ],
   "metadata": {
    "id": "n2eyK2PYgTUx"
   }
  },
  {
   "cell_type": "markdown",
   "source": [
    "**ОЖИДАЕМЫЙ РЕЗУЛЬТАТ**\n",
    "\n",
    "* Оформленный репозиторий на GitHub (ноутбук с исследованием + код приложения)\n",
    "* Развернутое web-приложение (с использованием библиотеки Streamlit)"
   ],
   "metadata": {
    "id": "cKiE8GeWiuk6"
   }
  },
  {
   "cell_type": "markdown",
   "source": [
    "## Участники проекта, репозиторий, приложение"
   ],
   "metadata": {
    "id": "vjyDN19upagN"
   }
  },
  {
   "cell_type": "markdown",
   "source": [
    "..."
   ],
   "metadata": {
    "id": "Fc7hKssHphI5"
   }
  },
  {
   "cell_type": "markdown",
   "source": [
    "..."
   ],
   "metadata": {
    "id": "JXbgFQ4XpsRY"
   }
  },
  {
   "cell_type": "markdown",
   "metadata": {
    "id": "upi7CiS5HGqL"
   },
   "source": [
    "## Импорт библиотек, установка констант"
   ]
  },
  {
   "cell_type": "code",
   "metadata": {
    "id": "SsOojBMIIWJ5",
    "ExecuteTime": {
     "end_time": "2025-06-02T19:04:44.421901Z",
     "start_time": "2025-06-02T19:04:42.747115Z"
    }
   },
   "source": [
    "%%capture\n",
    "%pip install catboost -q"
   ],
   "outputs": [],
   "execution_count": 2
  },
  {
   "cell_type": "code",
   "metadata": {
    "id": "m6qnUHR9G5Ld",
    "ExecuteTime": {
     "end_time": "2025-06-02T19:04:49.319780Z",
     "start_time": "2025-06-02T19:04:46.559734Z"
    }
   },
   "source": [
    "import pandas as pd\n",
    "import numpy as np\n",
    "\n",
    "from sklearn.model_selection import train_test_split\n",
    "from sklearn.metrics import f1_score\n",
    "from catboost import CatBoostClassifier"
   ],
   "outputs": [],
   "execution_count": 3
  },
  {
   "cell_type": "code",
   "metadata": {
    "id": "lDS-n392MZiL",
    "ExecuteTime": {
     "end_time": "2025-06-02T19:04:52.593412Z",
     "start_time": "2025-06-02T19:04:52.580883Z"
    }
   },
   "source": [
    "TRAIN = \"https://www.dropbox.com/scl/fi/5zy935lqpaqr9lat76ung/music_genre_train.csv?rlkey=ccovu9ml8pfi9whk1ba26zdda&dl=1\"\n",
    "TEST = \"https://www.dropbox.com/scl/fi/o6mvsowpp9r3k2lejuegt/music_genre_test.csv?rlkey=ac14ydue0rzlh880jwj3ebum4&dl=1\""
   ],
   "outputs": [],
   "execution_count": 4
  },
  {
   "cell_type": "code",
   "metadata": {
    "id": "CHWpPqWyRkBp",
    "ExecuteTime": {
     "end_time": "2025-06-02T19:04:56.821773Z",
     "start_time": "2025-06-02T19:04:56.813773Z"
    }
   },
   "source": [
    "RANDOM_STATE = 42\n",
    "TEST_SIZE = 0.25"
   ],
   "outputs": [],
   "execution_count": 5
  },
  {
   "cell_type": "markdown",
   "metadata": {
    "id": "2KtnoyfHNIVT"
   },
   "source": [
    "## Загрузка и обзор данных"
   ]
  },
  {
   "cell_type": "code",
   "metadata": {
    "id": "S7wsfpGRNKG3",
    "ExecuteTime": {
     "end_time": "2025-06-02T19:05:16.075350Z",
     "start_time": "2025-06-02T19:04:59.513615Z"
    }
   },
   "source": [
    "train = pd.read_csv(TRAIN)\n",
    "test = pd.read_csv(TEST)"
   ],
   "outputs": [],
   "execution_count": 6
  },
  {
   "cell_type": "code",
   "metadata": {
    "colab": {
     "base_uri": "https://localhost:8080/",
     "height": 258
    },
    "id": "loLY3GVFN5jI",
    "outputId": "2eed34f9-2866-4d3c-ab8c-d37b7f822a8b",
    "ExecuteTime": {
     "end_time": "2025-06-02T19:05:18.388733Z",
     "start_time": "2025-06-02T19:05:18.354323Z"
    }
   },
   "source": [
    "train.sample(5)"
   ],
   "outputs": [
    {
     "data": {
      "text/plain": [
       "       instance_id                                  track_name  acousticness  \\\n",
       "7102       41880.0                               Call me later      0.659000   \n",
       "12796      75289.0  Quit Me On a Voice Mail (feat. Eddie Shaw)      0.128000   \n",
       "10177      34948.0                                  Flashlight      0.070700   \n",
       "9805       64425.0                           Black Is The Soul      0.000018   \n",
       "7817       44271.0                                         Run      0.161000   \n",
       "\n",
       "       danceability  duration_ms  energy  instrumentalness key  liveness  \\\n",
       "7102          0.574     226200.0   0.418          0.000474   B     0.184   \n",
       "12796         0.537     284715.0   0.500          0.004010   G     0.114   \n",
       "10177         0.679     330089.0   0.950          0.948000   C     0.114   \n",
       "9805          0.465     241147.0   0.946          0.084400   A     0.134   \n",
       "7817          0.591     252467.0   0.562          0.779000   D     0.111   \n",
       "\n",
       "       loudness   mode  speechiness    tempo obtained_date  valence  \\\n",
       "7102    -10.612  Minor       0.0528  124.190         3-Apr   0.1200   \n",
       "12796    -6.798  Major       0.0346  125.596         3-Apr   0.4760   \n",
       "10177    -6.760  Major       0.0614  119.905         4-Apr   0.0495   \n",
       "9805     -4.205  Major       0.0680  133.802         4-Apr   0.3380   \n",
       "7817    -10.972  Major       0.0291  119.878         4-Apr   0.1380   \n",
       "\n",
       "       music_genre  \n",
       "7102         Anime  \n",
       "12796        Blues  \n",
       "10177   Electronic  \n",
       "9805   Alternative  \n",
       "7817    Electronic  "
      ],
      "text/html": [
       "<div>\n",
       "<style scoped>\n",
       "    .dataframe tbody tr th:only-of-type {\n",
       "        vertical-align: middle;\n",
       "    }\n",
       "\n",
       "    .dataframe tbody tr th {\n",
       "        vertical-align: top;\n",
       "    }\n",
       "\n",
       "    .dataframe thead th {\n",
       "        text-align: right;\n",
       "    }\n",
       "</style>\n",
       "<table border=\"1\" class=\"dataframe\">\n",
       "  <thead>\n",
       "    <tr style=\"text-align: right;\">\n",
       "      <th></th>\n",
       "      <th>instance_id</th>\n",
       "      <th>track_name</th>\n",
       "      <th>acousticness</th>\n",
       "      <th>danceability</th>\n",
       "      <th>duration_ms</th>\n",
       "      <th>energy</th>\n",
       "      <th>instrumentalness</th>\n",
       "      <th>key</th>\n",
       "      <th>liveness</th>\n",
       "      <th>loudness</th>\n",
       "      <th>mode</th>\n",
       "      <th>speechiness</th>\n",
       "      <th>tempo</th>\n",
       "      <th>obtained_date</th>\n",
       "      <th>valence</th>\n",
       "      <th>music_genre</th>\n",
       "    </tr>\n",
       "  </thead>\n",
       "  <tbody>\n",
       "    <tr>\n",
       "      <th>7102</th>\n",
       "      <td>41880.0</td>\n",
       "      <td>Call me later</td>\n",
       "      <td>0.659000</td>\n",
       "      <td>0.574</td>\n",
       "      <td>226200.0</td>\n",
       "      <td>0.418</td>\n",
       "      <td>0.000474</td>\n",
       "      <td>B</td>\n",
       "      <td>0.184</td>\n",
       "      <td>-10.612</td>\n",
       "      <td>Minor</td>\n",
       "      <td>0.0528</td>\n",
       "      <td>124.190</td>\n",
       "      <td>3-Apr</td>\n",
       "      <td>0.1200</td>\n",
       "      <td>Anime</td>\n",
       "    </tr>\n",
       "    <tr>\n",
       "      <th>12796</th>\n",
       "      <td>75289.0</td>\n",
       "      <td>Quit Me On a Voice Mail (feat. Eddie Shaw)</td>\n",
       "      <td>0.128000</td>\n",
       "      <td>0.537</td>\n",
       "      <td>284715.0</td>\n",
       "      <td>0.500</td>\n",
       "      <td>0.004010</td>\n",
       "      <td>G</td>\n",
       "      <td>0.114</td>\n",
       "      <td>-6.798</td>\n",
       "      <td>Major</td>\n",
       "      <td>0.0346</td>\n",
       "      <td>125.596</td>\n",
       "      <td>3-Apr</td>\n",
       "      <td>0.4760</td>\n",
       "      <td>Blues</td>\n",
       "    </tr>\n",
       "    <tr>\n",
       "      <th>10177</th>\n",
       "      <td>34948.0</td>\n",
       "      <td>Flashlight</td>\n",
       "      <td>0.070700</td>\n",
       "      <td>0.679</td>\n",
       "      <td>330089.0</td>\n",
       "      <td>0.950</td>\n",
       "      <td>0.948000</td>\n",
       "      <td>C</td>\n",
       "      <td>0.114</td>\n",
       "      <td>-6.760</td>\n",
       "      <td>Major</td>\n",
       "      <td>0.0614</td>\n",
       "      <td>119.905</td>\n",
       "      <td>4-Apr</td>\n",
       "      <td>0.0495</td>\n",
       "      <td>Electronic</td>\n",
       "    </tr>\n",
       "    <tr>\n",
       "      <th>9805</th>\n",
       "      <td>64425.0</td>\n",
       "      <td>Black Is The Soul</td>\n",
       "      <td>0.000018</td>\n",
       "      <td>0.465</td>\n",
       "      <td>241147.0</td>\n",
       "      <td>0.946</td>\n",
       "      <td>0.084400</td>\n",
       "      <td>A</td>\n",
       "      <td>0.134</td>\n",
       "      <td>-4.205</td>\n",
       "      <td>Major</td>\n",
       "      <td>0.0680</td>\n",
       "      <td>133.802</td>\n",
       "      <td>4-Apr</td>\n",
       "      <td>0.3380</td>\n",
       "      <td>Alternative</td>\n",
       "    </tr>\n",
       "    <tr>\n",
       "      <th>7817</th>\n",
       "      <td>44271.0</td>\n",
       "      <td>Run</td>\n",
       "      <td>0.161000</td>\n",
       "      <td>0.591</td>\n",
       "      <td>252467.0</td>\n",
       "      <td>0.562</td>\n",
       "      <td>0.779000</td>\n",
       "      <td>D</td>\n",
       "      <td>0.111</td>\n",
       "      <td>-10.972</td>\n",
       "      <td>Major</td>\n",
       "      <td>0.0291</td>\n",
       "      <td>119.878</td>\n",
       "      <td>4-Apr</td>\n",
       "      <td>0.1380</td>\n",
       "      <td>Electronic</td>\n",
       "    </tr>\n",
       "  </tbody>\n",
       "</table>\n",
       "</div>"
      ]
     },
     "execution_count": 7,
     "metadata": {},
     "output_type": "execute_result"
    }
   ],
   "execution_count": 7
  },
  {
   "cell_type": "markdown",
   "metadata": {
    "id": "SiKqp1lxOs_y"
   },
   "source": [
    "**Описание полей данных**\n",
    "\n",
    "`instance_id` - уникальный идентификатор трека  \n",
    "`track_name` - название трека  \n",
    "`acousticness` - акустичность  \n",
    "`danceability` - танцевальность  \n",
    "`duration_ms` -продолжительность в милисекундах  \n",
    "`energy` - энергичность  \n",
    "`instrumentalness` - инструментальность  \n",
    "`key` - тональность  \n",
    "`liveness` - привлекательность  \n",
    "`loudness` - громкость  \n",
    "`mode` - наклонение  \n",
    "`speechiness` - выразительность  \n",
    "`tempo` - темп  \n",
    "`obtained_date` - дата загрузки в сервис  \n",
    "`valence` - привлекательность произведения для пользователей сервиса  \n",
    "`music_genre` - музыкальный жанр"
   ]
  },
  {
   "cell_type": "markdown",
   "metadata": {
    "id": "ISIPhbS3RD3f"
   },
   "source": [
    "## Предварительная обработка данных"
   ]
  },
  {
   "cell_type": "code",
   "source": [],
   "metadata": {
    "id": "k-7r-wHPkKoc"
   },
   "execution_count": null,
   "outputs": []
  },
  {
   "cell_type": "code",
   "source": [],
   "metadata": {
    "id": "wjdDcIPXjovn"
   },
   "execution_count": null,
   "outputs": []
  },
  {
   "cell_type": "markdown",
   "source": [
    "## Разведочный анализ"
   ],
   "metadata": {
    "id": "C1n43JFuj8A4"
   }
  },
  {
   "cell_type": "code",
   "source": [],
   "metadata": {
    "id": "XZkWuz5PkJKz"
   },
   "execution_count": null,
   "outputs": []
  },
  {
   "cell_type": "code",
   "source": [],
   "metadata": {
    "id": "wH49XeKmkJAk"
   },
   "execution_count": null,
   "outputs": []
  },
  {
   "cell_type": "markdown",
   "source": [
    "## Работа с признаками"
   ],
   "metadata": {
    "id": "8jjLU6LfkEXo"
   }
  },
  {
   "cell_type": "code",
   "source": [],
   "metadata": {
    "id": "04rnC4ZNkH-W"
   },
   "execution_count": null,
   "outputs": []
  },
  {
   "cell_type": "code",
   "source": [],
   "metadata": {
    "id": "-4pQ7uzFkH0p"
   },
   "execution_count": null,
   "outputs": []
  },
  {
   "cell_type": "markdown",
   "metadata": {
    "id": "Z8q5tYgLRXxB"
   },
   "source": [
    "## Выбор и обучение моделей"
   ]
  },
  {
   "cell_type": "code",
   "source": [],
   "metadata": {
    "id": "j1RiZZM1kJsA"
   },
   "execution_count": null,
   "outputs": []
  },
  {
   "cell_type": "code",
   "source": [],
   "metadata": {
    "id": "lpM7aKb8jq-M"
   },
   "execution_count": null,
   "outputs": []
  },
  {
   "cell_type": "markdown",
   "metadata": {
    "id": "DKCtMvNlR5sf"
   },
   "source": [
    "## Оценка качества"
   ]
  },
  {
   "cell_type": "code",
   "source": [],
   "metadata": {
    "id": "mNu1Q_l_kKEf"
   },
   "execution_count": null,
   "outputs": []
  },
  {
   "cell_type": "code",
   "source": [],
   "metadata": {
    "id": "hauX4570jumC"
   },
   "execution_count": null,
   "outputs": []
  },
  {
   "cell_type": "markdown",
   "source": [
    "## Анализ важности признаков модели"
   ],
   "metadata": {
    "id": "xym1_x6Alo8o"
   }
  },
  {
   "cell_type": "code",
   "source": [],
   "metadata": {
    "id": "QVoP-8_IlsS0"
   },
   "execution_count": null,
   "outputs": []
  },
  {
   "cell_type": "code",
   "source": [],
   "metadata": {
    "id": "JkoTDfxfmJuo"
   },
   "execution_count": null,
   "outputs": []
  }
 ],
 "metadata": {
  "colab": {
   "provenance": []
  },
  "kernelspec": {
   "display_name": "Python 3 (ipykernel)",
   "language": "python",
   "name": "python3"
  },
  "language_info": {
   "codemirror_mode": {
    "name": "ipython",
    "version": 3
   },
   "file_extension": ".py",
   "mimetype": "text/x-python",
   "name": "python",
   "nbconvert_exporter": "python",
   "pygments_lexer": "ipython3",
   "version": "3.8.12"
  },
  "toc": {
   "base_numbering": 1,
   "nav_menu": {},
   "number_sections": true,
   "sideBar": true,
   "skip_h1_title": true,
   "title_cell": "Table of Contents",
   "title_sidebar": "Contents",
   "toc_cell": false,
   "toc_position": {},
   "toc_section_display": true,
   "toc_window_display": false
  }
 },
 "nbformat": 4,
 "nbformat_minor": 0
}
