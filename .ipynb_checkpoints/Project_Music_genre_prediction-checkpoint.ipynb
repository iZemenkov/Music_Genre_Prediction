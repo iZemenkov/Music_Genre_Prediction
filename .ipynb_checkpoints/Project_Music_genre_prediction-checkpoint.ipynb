{
 "cells": [
  {
   "cell_type": "markdown",
   "metadata": {
    "id": "UzskdJLJG6-B"
   },
   "source": [
    "# Music genre prediction"
   ]
  },
  {
   "cell_type": "markdown",
   "metadata": {
    "id": "VEmvv_QjG_VK"
   },
   "source": [
    "**Описание задачи**\n",
    "\n",
    "Вы сотрудник Отдела Data Science популярного музыкального стримингового сервиса. Сервис расширяет работу с новыми артистами и музыкантами, в связи с чем возникла задача -- правильно классифицировать новые музыкальные треки, чтобы улучшить работу рекомендательной системы. Ваши коллеги из отдела работы со звуком подготовили датасет, в котором собраны некоторые характеристики музыкальных произведений и их жанры. Ваша задача - разработать модель, позволяющую классифицировать музыкальные произведения по жанрам."
   ]
  },
  {
   "cell_type": "markdown",
   "source": [
    "В ходе работы пройдите все основные этапы полноценного исследования:\n",
    "\n",
    "*  загрузка и ознакомление с данными\n",
    "*  предварительная обработка\n",
    "*  полноценный разведочный анализ\n",
    "*  разработка новых синтетических признаков\n",
    "*  проверка на мультиколлинеарность\n",
    "*  отбор финального набора обучающих признаков\n",
    "*  выбор и обучение моделей\n",
    "*  итоговая оценка качества предсказания лучшей модели\n",
    "*  анализ важности ее признаков\n",
    "\n",
    "**ВАЖНО**  \n",
    "Необходимо реализовать решение с использованием технологии `pipeline` (из библиотеки `sklearn`)"
   ],
   "metadata": {
    "id": "n2eyK2PYgTUx"
   }
  },
  {
   "cell_type": "markdown",
   "source": [
    "**ОЖИДАЕМЫЙ РЕЗУЛЬТАТ**\n",
    "\n",
    "* Оформленный репозиторий на GitHub (ноутбук с исследованием + код приложения)\n",
    "* Развернутое web-приложение (с использованием библиотеки Streamlit)"
   ],
   "metadata": {
    "id": "cKiE8GeWiuk6"
   }
  },
  {
   "cell_type": "markdown",
   "source": [
    "## Участники проекта, репозиторий, приложение"
   ],
   "metadata": {
    "id": "vjyDN19upagN"
   }
  },
  {
   "cell_type": "markdown",
   "source": [
    "..."
   ],
   "metadata": {
    "id": "Fc7hKssHphI5"
   }
  },
  {
   "cell_type": "markdown",
   "source": [
    "..."
   ],
   "metadata": {
    "id": "JXbgFQ4XpsRY"
   }
  },
  {
   "cell_type": "markdown",
   "metadata": {
    "id": "upi7CiS5HGqL"
   },
   "source": [
    "## Импорт библиотек, установка констант"
   ]
  },
  {
   "cell_type": "code",
   "execution_count": null,
   "metadata": {
    "id": "SsOojBMIIWJ5"
   },
   "outputs": [],
   "source": [
    "%%capture\n",
    "%pip install catboost -q"
   ]
  },
  {
   "cell_type": "code",
   "metadata": {
    "id": "m6qnUHR9G5Ld",
    "ExecuteTime": {
     "end_time": "2025-06-02T18:16:50.191789Z",
     "start_time": "2025-06-02T18:16:48.332229Z"
    }
   },
   "source": [
    "import pandas as pd\n",
    "import numpy as np\n",
    "\n",
    "from sklearn.model_selection import train_test_split\n",
    "from sklearn.metrics import f1_score\n",
    "from catboost import CatBoostClassifier"
   ],
   "outputs": [],
   "execution_count": 1
  },
  {
   "cell_type": "code",
   "execution_count": null,
   "metadata": {
    "id": "lDS-n392MZiL"
   },
   "outputs": [],
   "source": [
    "TRAIN = \"https://www.dropbox.com/scl/fi/5zy935lqpaqr9lat76ung/music_genre_train.csv?rlkey=ccovu9ml8pfi9whk1ba26zdda&dl=1\"\n",
    "TEST = \"https://www.dropbox.com/scl/fi/o6mvsowpp9r3k2lejuegt/music_genre_test.csv?rlkey=ac14ydue0rzlh880jwj3ebum4&dl=1\""
   ]
  },
  {
   "cell_type": "code",
   "execution_count": null,
   "metadata": {
    "id": "CHWpPqWyRkBp"
   },
   "outputs": [],
   "source": [
    "RANDOM_STATE = 42\n",
    "TEST_SIZE = 0.25"
   ]
  },
  {
   "cell_type": "markdown",
   "metadata": {
    "id": "2KtnoyfHNIVT"
   },
   "source": [
    "## Загрузка и обзор данных"
   ]
  },
  {
   "cell_type": "code",
   "execution_count": null,
   "metadata": {
    "id": "S7wsfpGRNKG3"
   },
   "outputs": [],
   "source": [
    "train = pd.read_csv(TRAIN)\n",
    "test = pd.read_csv(TEST)"
   ]
  },
  {
   "cell_type": "code",
   "execution_count": null,
   "metadata": {
    "colab": {
     "base_uri": "https://localhost:8080/",
     "height": 258
    },
    "id": "loLY3GVFN5jI",
    "outputId": "2eed34f9-2866-4d3c-ab8c-d37b7f822a8b"
   },
   "outputs": [
    {
     "output_type": "execute_result",
     "data": {
      "text/plain": [
       "       instance_id                                 track_name  acousticness  \\\n",
       "19853      82288.0         My Memory Ain't What It Used to Be      0.086500   \n",
       "11852      75537.0                                     Heaven      0.201000   \n",
       "1546       89084.0  Mama Said Knock You Out (feat. Tech N9ne)      0.000128   \n",
       "15283      49545.0                                Young Blood      0.000056   \n",
       "14800      53212.0                            A Girl Like You      0.017800   \n",
       "\n",
       "       danceability  duration_ms  energy  instrumentalness key  liveness  \\\n",
       "19853         0.502     253693.0   0.634          0.000001  F#    0.2250   \n",
       "11852         0.787     169258.0   0.761          0.000000   C    0.3430   \n",
       "1546          0.590     167510.0   0.979          0.000000  F#    0.0819   \n",
       "15283         0.579     246600.0   0.865          0.000221  F#    0.6490   \n",
       "14800         0.740     217840.0   0.777          0.000001   F    0.0665   \n",
       "\n",
       "       loudness   mode  speechiness    tempo obtained_date  valence  \\\n",
       "19853    -6.894  Major       0.0287  151.888         4-Apr    0.563   \n",
       "11852    -4.509  Major       0.0625  139.961         4-Apr    0.698   \n",
       "1546     -3.763  Minor       0.1030  102.993         4-Apr    0.724   \n",
       "15283    -4.692  Major       0.0302  104.990         4-Apr    0.358   \n",
       "14800    -4.405  Major       0.0329  104.989         4-Apr    0.834   \n",
       "\n",
       "       music_genre  \n",
       "19853      Country  \n",
       "11852          Rap  \n",
       "1546   Alternative  \n",
       "15283  Alternative  \n",
       "14800      Country  "
      ],
      "text/html": [
       "\n",
       "  <div id=\"df-331fce40-1370-4cae-bcd9-9e6489ed7696\" class=\"colab-df-container\">\n",
       "    <div>\n",
       "<style scoped>\n",
       "    .dataframe tbody tr th:only-of-type {\n",
       "        vertical-align: middle;\n",
       "    }\n",
       "\n",
       "    .dataframe tbody tr th {\n",
       "        vertical-align: top;\n",
       "    }\n",
       "\n",
       "    .dataframe thead th {\n",
       "        text-align: right;\n",
       "    }\n",
       "</style>\n",
       "<table border=\"1\" class=\"dataframe\">\n",
       "  <thead>\n",
       "    <tr style=\"text-align: right;\">\n",
       "      <th></th>\n",
       "      <th>instance_id</th>\n",
       "      <th>track_name</th>\n",
       "      <th>acousticness</th>\n",
       "      <th>danceability</th>\n",
       "      <th>duration_ms</th>\n",
       "      <th>energy</th>\n",
       "      <th>instrumentalness</th>\n",
       "      <th>key</th>\n",
       "      <th>liveness</th>\n",
       "      <th>loudness</th>\n",
       "      <th>mode</th>\n",
       "      <th>speechiness</th>\n",
       "      <th>tempo</th>\n",
       "      <th>obtained_date</th>\n",
       "      <th>valence</th>\n",
       "      <th>music_genre</th>\n",
       "    </tr>\n",
       "  </thead>\n",
       "  <tbody>\n",
       "    <tr>\n",
       "      <th>19853</th>\n",
       "      <td>82288.0</td>\n",
       "      <td>My Memory Ain't What It Used to Be</td>\n",
       "      <td>0.086500</td>\n",
       "      <td>0.502</td>\n",
       "      <td>253693.0</td>\n",
       "      <td>0.634</td>\n",
       "      <td>0.000001</td>\n",
       "      <td>F#</td>\n",
       "      <td>0.2250</td>\n",
       "      <td>-6.894</td>\n",
       "      <td>Major</td>\n",
       "      <td>0.0287</td>\n",
       "      <td>151.888</td>\n",
       "      <td>4-Apr</td>\n",
       "      <td>0.563</td>\n",
       "      <td>Country</td>\n",
       "    </tr>\n",
       "    <tr>\n",
       "      <th>11852</th>\n",
       "      <td>75537.0</td>\n",
       "      <td>Heaven</td>\n",
       "      <td>0.201000</td>\n",
       "      <td>0.787</td>\n",
       "      <td>169258.0</td>\n",
       "      <td>0.761</td>\n",
       "      <td>0.000000</td>\n",
       "      <td>C</td>\n",
       "      <td>0.3430</td>\n",
       "      <td>-4.509</td>\n",
       "      <td>Major</td>\n",
       "      <td>0.0625</td>\n",
       "      <td>139.961</td>\n",
       "      <td>4-Apr</td>\n",
       "      <td>0.698</td>\n",
       "      <td>Rap</td>\n",
       "    </tr>\n",
       "    <tr>\n",
       "      <th>1546</th>\n",
       "      <td>89084.0</td>\n",
       "      <td>Mama Said Knock You Out (feat. Tech N9ne)</td>\n",
       "      <td>0.000128</td>\n",
       "      <td>0.590</td>\n",
       "      <td>167510.0</td>\n",
       "      <td>0.979</td>\n",
       "      <td>0.000000</td>\n",
       "      <td>F#</td>\n",
       "      <td>0.0819</td>\n",
       "      <td>-3.763</td>\n",
       "      <td>Minor</td>\n",
       "      <td>0.1030</td>\n",
       "      <td>102.993</td>\n",
       "      <td>4-Apr</td>\n",
       "      <td>0.724</td>\n",
       "      <td>Alternative</td>\n",
       "    </tr>\n",
       "    <tr>\n",
       "      <th>15283</th>\n",
       "      <td>49545.0</td>\n",
       "      <td>Young Blood</td>\n",
       "      <td>0.000056</td>\n",
       "      <td>0.579</td>\n",
       "      <td>246600.0</td>\n",
       "      <td>0.865</td>\n",
       "      <td>0.000221</td>\n",
       "      <td>F#</td>\n",
       "      <td>0.6490</td>\n",
       "      <td>-4.692</td>\n",
       "      <td>Major</td>\n",
       "      <td>0.0302</td>\n",
       "      <td>104.990</td>\n",
       "      <td>4-Apr</td>\n",
       "      <td>0.358</td>\n",
       "      <td>Alternative</td>\n",
       "    </tr>\n",
       "    <tr>\n",
       "      <th>14800</th>\n",
       "      <td>53212.0</td>\n",
       "      <td>A Girl Like You</td>\n",
       "      <td>0.017800</td>\n",
       "      <td>0.740</td>\n",
       "      <td>217840.0</td>\n",
       "      <td>0.777</td>\n",
       "      <td>0.000001</td>\n",
       "      <td>F</td>\n",
       "      <td>0.0665</td>\n",
       "      <td>-4.405</td>\n",
       "      <td>Major</td>\n",
       "      <td>0.0329</td>\n",
       "      <td>104.989</td>\n",
       "      <td>4-Apr</td>\n",
       "      <td>0.834</td>\n",
       "      <td>Country</td>\n",
       "    </tr>\n",
       "  </tbody>\n",
       "</table>\n",
       "</div>\n",
       "    <div class=\"colab-df-buttons\">\n",
       "\n",
       "  <div class=\"colab-df-container\">\n",
       "    <button class=\"colab-df-convert\" onclick=\"convertToInteractive('df-331fce40-1370-4cae-bcd9-9e6489ed7696')\"\n",
       "            title=\"Convert this dataframe to an interactive table.\"\n",
       "            style=\"display:none;\">\n",
       "\n",
       "  <svg xmlns=\"http://www.w3.org/2000/svg\" height=\"24px\" viewBox=\"0 -960 960 960\">\n",
       "    <path d=\"M120-120v-720h720v720H120Zm60-500h600v-160H180v160Zm220 220h160v-160H400v160Zm0 220h160v-160H400v160ZM180-400h160v-160H180v160Zm440 0h160v-160H620v160ZM180-180h160v-160H180v160Zm440 0h160v-160H620v160Z\"/>\n",
       "  </svg>\n",
       "    </button>\n",
       "\n",
       "  <style>\n",
       "    .colab-df-container {\n",
       "      display:flex;\n",
       "      gap: 12px;\n",
       "    }\n",
       "\n",
       "    .colab-df-convert {\n",
       "      background-color: #E8F0FE;\n",
       "      border: none;\n",
       "      border-radius: 50%;\n",
       "      cursor: pointer;\n",
       "      display: none;\n",
       "      fill: #1967D2;\n",
       "      height: 32px;\n",
       "      padding: 0 0 0 0;\n",
       "      width: 32px;\n",
       "    }\n",
       "\n",
       "    .colab-df-convert:hover {\n",
       "      background-color: #E2EBFA;\n",
       "      box-shadow: 0px 1px 2px rgba(60, 64, 67, 0.3), 0px 1px 3px 1px rgba(60, 64, 67, 0.15);\n",
       "      fill: #174EA6;\n",
       "    }\n",
       "\n",
       "    .colab-df-buttons div {\n",
       "      margin-bottom: 4px;\n",
       "    }\n",
       "\n",
       "    [theme=dark] .colab-df-convert {\n",
       "      background-color: #3B4455;\n",
       "      fill: #D2E3FC;\n",
       "    }\n",
       "\n",
       "    [theme=dark] .colab-df-convert:hover {\n",
       "      background-color: #434B5C;\n",
       "      box-shadow: 0px 1px 3px 1px rgba(0, 0, 0, 0.15);\n",
       "      filter: drop-shadow(0px 1px 2px rgba(0, 0, 0, 0.3));\n",
       "      fill: #FFFFFF;\n",
       "    }\n",
       "  </style>\n",
       "\n",
       "    <script>\n",
       "      const buttonEl =\n",
       "        document.querySelector('#df-331fce40-1370-4cae-bcd9-9e6489ed7696 button.colab-df-convert');\n",
       "      buttonEl.style.display =\n",
       "        google.colab.kernel.accessAllowed ? 'block' : 'none';\n",
       "\n",
       "      async function convertToInteractive(key) {\n",
       "        const element = document.querySelector('#df-331fce40-1370-4cae-bcd9-9e6489ed7696');\n",
       "        const dataTable =\n",
       "          await google.colab.kernel.invokeFunction('convertToInteractive',\n",
       "                                                    [key], {});\n",
       "        if (!dataTable) return;\n",
       "\n",
       "        const docLinkHtml = 'Like what you see? Visit the ' +\n",
       "          '<a target=\"_blank\" href=https://colab.research.google.com/notebooks/data_table.ipynb>data table notebook</a>'\n",
       "          + ' to learn more about interactive tables.';\n",
       "        element.innerHTML = '';\n",
       "        dataTable['output_type'] = 'display_data';\n",
       "        await google.colab.output.renderOutput(dataTable, element);\n",
       "        const docLink = document.createElement('div');\n",
       "        docLink.innerHTML = docLinkHtml;\n",
       "        element.appendChild(docLink);\n",
       "      }\n",
       "    </script>\n",
       "  </div>\n",
       "\n",
       "\n",
       "<div id=\"df-5420a703-f322-4825-a10a-360af136e33a\">\n",
       "  <button class=\"colab-df-quickchart\" onclick=\"quickchart('df-5420a703-f322-4825-a10a-360af136e33a')\"\n",
       "            title=\"Suggest charts\"\n",
       "            style=\"display:none;\">\n",
       "\n",
       "<svg xmlns=\"http://www.w3.org/2000/svg\" height=\"24px\"viewBox=\"0 0 24 24\"\n",
       "     width=\"24px\">\n",
       "    <g>\n",
       "        <path d=\"M19 3H5c-1.1 0-2 .9-2 2v14c0 1.1.9 2 2 2h14c1.1 0 2-.9 2-2V5c0-1.1-.9-2-2-2zM9 17H7v-7h2v7zm4 0h-2V7h2v10zm4 0h-2v-4h2v4z\"/>\n",
       "    </g>\n",
       "</svg>\n",
       "  </button>\n",
       "\n",
       "<style>\n",
       "  .colab-df-quickchart {\n",
       "      --bg-color: #E8F0FE;\n",
       "      --fill-color: #1967D2;\n",
       "      --hover-bg-color: #E2EBFA;\n",
       "      --hover-fill-color: #174EA6;\n",
       "      --disabled-fill-color: #AAA;\n",
       "      --disabled-bg-color: #DDD;\n",
       "  }\n",
       "\n",
       "  [theme=dark] .colab-df-quickchart {\n",
       "      --bg-color: #3B4455;\n",
       "      --fill-color: #D2E3FC;\n",
       "      --hover-bg-color: #434B5C;\n",
       "      --hover-fill-color: #FFFFFF;\n",
       "      --disabled-bg-color: #3B4455;\n",
       "      --disabled-fill-color: #666;\n",
       "  }\n",
       "\n",
       "  .colab-df-quickchart {\n",
       "    background-color: var(--bg-color);\n",
       "    border: none;\n",
       "    border-radius: 50%;\n",
       "    cursor: pointer;\n",
       "    display: none;\n",
       "    fill: var(--fill-color);\n",
       "    height: 32px;\n",
       "    padding: 0;\n",
       "    width: 32px;\n",
       "  }\n",
       "\n",
       "  .colab-df-quickchart:hover {\n",
       "    background-color: var(--hover-bg-color);\n",
       "    box-shadow: 0 1px 2px rgba(60, 64, 67, 0.3), 0 1px 3px 1px rgba(60, 64, 67, 0.15);\n",
       "    fill: var(--button-hover-fill-color);\n",
       "  }\n",
       "\n",
       "  .colab-df-quickchart-complete:disabled,\n",
       "  .colab-df-quickchart-complete:disabled:hover {\n",
       "    background-color: var(--disabled-bg-color);\n",
       "    fill: var(--disabled-fill-color);\n",
       "    box-shadow: none;\n",
       "  }\n",
       "\n",
       "  .colab-df-spinner {\n",
       "    border: 2px solid var(--fill-color);\n",
       "    border-color: transparent;\n",
       "    border-bottom-color: var(--fill-color);\n",
       "    animation:\n",
       "      spin 1s steps(1) infinite;\n",
       "  }\n",
       "\n",
       "  @keyframes spin {\n",
       "    0% {\n",
       "      border-color: transparent;\n",
       "      border-bottom-color: var(--fill-color);\n",
       "      border-left-color: var(--fill-color);\n",
       "    }\n",
       "    20% {\n",
       "      border-color: transparent;\n",
       "      border-left-color: var(--fill-color);\n",
       "      border-top-color: var(--fill-color);\n",
       "    }\n",
       "    30% {\n",
       "      border-color: transparent;\n",
       "      border-left-color: var(--fill-color);\n",
       "      border-top-color: var(--fill-color);\n",
       "      border-right-color: var(--fill-color);\n",
       "    }\n",
       "    40% {\n",
       "      border-color: transparent;\n",
       "      border-right-color: var(--fill-color);\n",
       "      border-top-color: var(--fill-color);\n",
       "    }\n",
       "    60% {\n",
       "      border-color: transparent;\n",
       "      border-right-color: var(--fill-color);\n",
       "    }\n",
       "    80% {\n",
       "      border-color: transparent;\n",
       "      border-right-color: var(--fill-color);\n",
       "      border-bottom-color: var(--fill-color);\n",
       "    }\n",
       "    90% {\n",
       "      border-color: transparent;\n",
       "      border-bottom-color: var(--fill-color);\n",
       "    }\n",
       "  }\n",
       "</style>\n",
       "\n",
       "  <script>\n",
       "    async function quickchart(key) {\n",
       "      const quickchartButtonEl =\n",
       "        document.querySelector('#' + key + ' button');\n",
       "      quickchartButtonEl.disabled = true;  // To prevent multiple clicks.\n",
       "      quickchartButtonEl.classList.add('colab-df-spinner');\n",
       "      try {\n",
       "        const charts = await google.colab.kernel.invokeFunction(\n",
       "            'suggestCharts', [key], {});\n",
       "      } catch (error) {\n",
       "        console.error('Error during call to suggestCharts:', error);\n",
       "      }\n",
       "      quickchartButtonEl.classList.remove('colab-df-spinner');\n",
       "      quickchartButtonEl.classList.add('colab-df-quickchart-complete');\n",
       "    }\n",
       "    (() => {\n",
       "      let quickchartButtonEl =\n",
       "        document.querySelector('#df-5420a703-f322-4825-a10a-360af136e33a button');\n",
       "      quickchartButtonEl.style.display =\n",
       "        google.colab.kernel.accessAllowed ? 'block' : 'none';\n",
       "    })();\n",
       "  </script>\n",
       "</div>\n",
       "    </div>\n",
       "  </div>\n"
      ]
     },
     "metadata": {},
     "execution_count": 6
    }
   ],
   "source": [
    "train.sample(5)"
   ]
  },
  {
   "cell_type": "markdown",
   "metadata": {
    "id": "SiKqp1lxOs_y"
   },
   "source": [
    "**Описание полей данных**\n",
    "\n",
    "`instance_id` - уникальный идентификатор трека  \n",
    "`track_name` - название трека  \n",
    "`acousticness` - акустичность  \n",
    "`danceability` - танцевальность  \n",
    "`duration_ms` -продолжительность в милисекундах  \n",
    "`energy` - энергичность  \n",
    "`instrumentalness` - инструментальность  \n",
    "`key` - тональность  \n",
    "`liveness` - привлекательность  \n",
    "`loudness` - громкость  \n",
    "`mode` - наклонение  \n",
    "`speechiness` - выразительность  \n",
    "`tempo` - темп  \n",
    "`obtained_date` - дата загрузки в сервис  \n",
    "`valence` - привлекательность произведения для пользователей сервиса  \n",
    "`music_genre` - музыкальный жанр"
   ]
  },
  {
   "cell_type": "markdown",
   "metadata": {
    "id": "ISIPhbS3RD3f"
   },
   "source": [
    "## Предварительная обработка данных"
   ]
  },
  {
   "cell_type": "code",
   "source": [],
   "metadata": {
    "id": "k-7r-wHPkKoc"
   },
   "execution_count": null,
   "outputs": []
  },
  {
   "cell_type": "code",
   "source": [],
   "metadata": {
    "id": "wjdDcIPXjovn"
   },
   "execution_count": null,
   "outputs": []
  },
  {
   "cell_type": "markdown",
   "source": [
    "## Разведочный анализ"
   ],
   "metadata": {
    "id": "C1n43JFuj8A4"
   }
  },
  {
   "cell_type": "code",
   "source": [],
   "metadata": {
    "id": "XZkWuz5PkJKz"
   },
   "execution_count": null,
   "outputs": []
  },
  {
   "cell_type": "code",
   "source": [],
   "metadata": {
    "id": "wH49XeKmkJAk"
   },
   "execution_count": null,
   "outputs": []
  },
  {
   "cell_type": "markdown",
   "source": [
    "## Работа с признаками"
   ],
   "metadata": {
    "id": "8jjLU6LfkEXo"
   }
  },
  {
   "cell_type": "code",
   "source": [],
   "metadata": {
    "id": "04rnC4ZNkH-W"
   },
   "execution_count": null,
   "outputs": []
  },
  {
   "cell_type": "code",
   "source": [],
   "metadata": {
    "id": "-4pQ7uzFkH0p"
   },
   "execution_count": null,
   "outputs": []
  },
  {
   "cell_type": "markdown",
   "metadata": {
    "id": "Z8q5tYgLRXxB"
   },
   "source": [
    "## Выбор и обучение моделей"
   ]
  },
  {
   "cell_type": "code",
   "source": [],
   "metadata": {
    "id": "j1RiZZM1kJsA"
   },
   "execution_count": null,
   "outputs": []
  },
  {
   "cell_type": "code",
   "source": [],
   "metadata": {
    "id": "lpM7aKb8jq-M"
   },
   "execution_count": null,
   "outputs": []
  },
  {
   "cell_type": "markdown",
   "metadata": {
    "id": "DKCtMvNlR5sf"
   },
   "source": [
    "## Оценка качества"
   ]
  },
  {
   "cell_type": "code",
   "source": [],
   "metadata": {
    "id": "mNu1Q_l_kKEf"
   },
   "execution_count": null,
   "outputs": []
  },
  {
   "cell_type": "code",
   "source": [],
   "metadata": {
    "id": "hauX4570jumC"
   },
   "execution_count": null,
   "outputs": []
  },
  {
   "cell_type": "markdown",
   "source": [
    "## Анализ важности признаков модели"
   ],
   "metadata": {
    "id": "xym1_x6Alo8o"
   }
  },
  {
   "cell_type": "code",
   "source": [],
   "metadata": {
    "id": "QVoP-8_IlsS0"
   },
   "execution_count": null,
   "outputs": []
  },
  {
   "cell_type": "code",
   "source": [],
   "metadata": {
    "id": "JkoTDfxfmJuo"
   },
   "execution_count": null,
   "outputs": []
  }
 ],
 "metadata": {
  "colab": {
   "provenance": []
  },
  "kernelspec": {
   "display_name": "Python 3 (ipykernel)",
   "language": "python",
   "name": "python3"
  },
  "language_info": {
   "codemirror_mode": {
    "name": "ipython",
    "version": 3
   },
   "file_extension": ".py",
   "mimetype": "text/x-python",
   "name": "python",
   "nbconvert_exporter": "python",
   "pygments_lexer": "ipython3",
   "version": "3.8.12"
  },
  "toc": {
   "base_numbering": 1,
   "nav_menu": {},
   "number_sections": true,
   "sideBar": true,
   "skip_h1_title": true,
   "title_cell": "Table of Contents",
   "title_sidebar": "Contents",
   "toc_cell": false,
   "toc_position": {},
   "toc_section_display": true,
   "toc_window_display": false
  }
 },
 "nbformat": 4,
 "nbformat_minor": 0
}
